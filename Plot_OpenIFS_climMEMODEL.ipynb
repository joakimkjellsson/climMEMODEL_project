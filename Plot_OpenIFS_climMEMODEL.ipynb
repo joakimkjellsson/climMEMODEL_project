{
 "cells": [
  {
   "cell_type": "markdown",
   "id": "c988b397",
   "metadata": {},
   "source": [
    "# Analyse and plot output from OpenIFS\n",
    "\n",
    "Files are named EXPID_FREQ_STARTDATE_ENDDATE_GRID_LEVEL.nc \n",
    "* FREQ can be \"1d\" (daily), \"1m\" (monthly), etc. \n",
    "* GRID can be \"regular\" (regular grid where lon, lat are 1D) or \"reduced\" (original reduced Gaussian grid).\n",
    "* LEVEL can be \"sfc\" (surface variables, e.g. 2m temp, precipitation), \"pl\" (pressure levels), \"pv\" (potential vorticity levels)\n",
    "\n",
    "See ECMWF parameter database for variable names and descriptions. \n",
    "https://apps.ecmwf.int/codes/grib/param-db"
   ]
  },
  {
   "cell_type": "code",
   "execution_count": null,
   "id": "9f756a22",
   "metadata": {},
   "outputs": [],
   "source": [
    "# Load necessary modules\n",
    "import numpy as np\n",
    "import matplotlib.pyplot as plt\n",
    "import xarray as xr\n",
    "import cartopy.crs as ccrs\n",
    "import cmocean \n",
    "import os"
   ]
  },
  {
   "cell_type": "markdown",
   "id": "69bd679d",
   "metadata": {},
   "source": [
    "## Where to find data"
   ]
  },
  {
   "cell_type": "code",
   "execution_count": null,
   "id": "7cf5642e",
   "metadata": {},
   "outputs": [],
   "source": [
    "# Find esm-experiments in your WORK dir\n",
    "esmdir = '%s/esm-experiments/' % (os.environ['WORK'],)"
   ]
  },
  {
   "cell_type": "markdown",
   "id": "c84f5542",
   "metadata": {},
   "source": [
    "## Read OpenIFS data"
   ]
  },
  {
   "cell_type": "code",
   "execution_count": 2,
   "id": "396c8db3",
   "metadata": {},
   "outputs": [],
   "source": [
    "# Frequency to read in \n",
    "freq = '1d'\n",
    "# Which runs to read\n",
    "expnames = ['OIFS-KJK001']\n",
    "# Which time periods to read in\n",
    "times = [slice('1979-01-01','1979-01-05')]\n",
    "# Which levels to read for each run\n",
    "levels = ['sfc','pl']"
   ]
  },
  {
   "cell_type": "code",
   "execution_count": null,
   "id": "7432f8e6",
   "metadata": {},
   "outputs": [],
   "source": [
    "# Put data from all runs in one list\n",
    "ds_all = []\n",
    "\n",
    "for exp,time,lev in zip(expnames, times, levels):\n",
    "    \n",
    "    # Find all relevant files with wildcards\n",
    "    files = '%s/%s/outdata/oifs/*%s*regular_%s.nc' % (esmdir,exp,freq,lev)\n",
    "    \n",
    "    # Open multi-file data set. We need to use cftime since the normal python calendar stops working after 2300. \n",
    "    # We only read time set in the times list above\n",
    "    # Also, we rename time variable from time_counter to time to make life easier\n",
    "    # Optimized reading from Sebastian Wahl\n",
    "    _ds = xr.open_mfdataset(files,combine='nested', \n",
    "                            concat_dim=\"time_counter\", use_cftime=True,\n",
    "                            data_vars='minimal', coords='minimal', compat='override',\n",
    "                            parallel=True).rename({'time_counter':'time'}).sel(time=time)\n",
    "    ds_all.append(_ds)"
   ]
  },
  {
   "cell_type": "markdown",
   "id": "fec6dd36",
   "metadata": {},
   "source": [
    "## Plot mean T2m "
   ]
  },
  {
   "cell_type": "code",
   "execution_count": null,
   "id": "e9a8e88e",
   "metadata": {},
   "outputs": [],
   "source": [
    "mean_list = []\n",
    "\n",
    "for i,_ds in enumerate(ds_all):\n",
    "    \n",
    "    # Select T2m\n",
    "    _mean = _ds['2t'].mean('time').compute()\n",
    "    # Add experiment as coordinate\n",
    "    _mean.coords['exp'] = expnames[i]\n",
    "    \n",
    "    mean_list.append(_mean)\n",
    "    \n",
    "ds_mean = xr.concat( mean_list, dim='exp' )"
   ]
  },
  {
   "cell_type": "code",
   "execution_count": null,
   "id": "c51ca7bf",
   "metadata": {},
   "outputs": [],
   "source": [
    "ds_mean.plot(x='lon',y='lat',col='exp',col_wrap=2,\n",
    "             cmap=cmocean.cm.thermal,\n",
    "             cbar_kwargs={'label': 'SST [K]'})"
   ]
  },
  {
   "cell_type": "markdown",
   "id": "677b1166",
   "metadata": {},
   "source": [
    "## Plot surface solar radiation and precip over Honolulu"
   ]
  },
  {
   "cell_type": "code",
   "execution_count": null,
   "id": "3bd1e9fa",
   "metadata": {},
   "outputs": [],
   "source": [
    "flux_list = []\n",
    "\n",
    "for i, _ds in enumerate(ds_all):\n",
    "    \n",
    "    # Select solar rad\n",
    "    # Logic is SSR = Surface Solar Radiation\n",
    "    # Similarly, TTR = Top of atmosphere Thermal Radiation\n",
    "    # OpenIFS grid has lon=[0,360]\n",
    "    _sw = _ds['ssr'].sel(lat=21.3,method='nearest').sel(lon=202.1,method='nearest')\n",
    "    \n",
    "    # Select precip\n",
    "    _tp = _ds['tp'].sel(lat=21.3,method='nearest').sel(lon=202.1,method='nearest')\n",
    "    \n",
    "    # Put into one dataset\n",
    "    _ds = xr.merge( [_sw, _tp])\n",
    "    _ds.coords['exp'] = expnames[i]\n",
    "    \n",
    "    flux_list.append(_ds)\n",
    "    \n",
    "ds_flux = xr.concat( flux_list, dim='exp' )"
   ]
  },
  {
   "cell_type": "code",
   "execution_count": null,
   "id": "a737941e",
   "metadata": {},
   "outputs": [],
   "source": [
    "fig, ax = plt.subplots(1,2)\n",
    "axs = ax.flat\n",
    "\n",
    "# Precip is in m/s\n",
    "# Scale to mm/day\n",
    "pscale = 1000 * 86400\n",
    "\n",
    "ds_flux['ssr'].plot(hue='exp',ax=axs[0])\n",
    "(ds_flux['tp'] * pscale).plot(hue='exp',ax=axs[1])"
   ]
  },
  {
   "cell_type": "markdown",
   "id": "65c8d1dc",
   "metadata": {},
   "source": [
    "## Plot jet stream over North Atlantic"
   ]
  },
  {
   "cell_type": "code",
   "execution_count": null,
   "id": "4370cd01",
   "metadata": {},
   "outputs": [],
   "source": [
    "jet_list = []\n",
    "\n",
    "for i, _ds in enumerate(ds_all):\n",
    "    \n",
    "    # Select zonal wind\n",
    "    # over North Atlantic (60W-0E, 20-70N)\n",
    "    # take zonal and time mean\n",
    "    _ds['u'].sel(lon=slice(300,360)).sel(lat=slice(20,70)).mean('lon').mean('time')\n",
    "    _ds.coords['exp'] = expnames[i]\n",
    "    \n",
    "    jet_list.append(_ds)\n",
    "    \n",
    "ds_jet = xr.concat(jet_list, dim='exp')"
   ]
  },
  {
   "cell_type": "code",
   "execution_count": null,
   "id": "0c13f8e5",
   "metadata": {},
   "outputs": [],
   "source": [
    "ds_mean.plot(x='lat',y='pressure_levels',col='exp',col_wrap=2,\n",
    "             cmap=cmocean.cm.curl,\n",
    "             cbar_kwargs={'label': 'U [m/s]'})"
   ]
  }
 ],
 "metadata": {
  "kernelspec": {
   "display_name": "Python 3 (ipykernel)",
   "language": "python",
   "name": "python3"
  },
  "language_info": {
   "codemirror_mode": {
    "name": "ipython",
    "version": 3
   },
   "file_extension": ".py",
   "mimetype": "text/x-python",
   "name": "python",
   "nbconvert_exporter": "python",
   "pygments_lexer": "ipython3",
   "version": "3.7.13"
  }
 },
 "nbformat": 4,
 "nbformat_minor": 5
}
